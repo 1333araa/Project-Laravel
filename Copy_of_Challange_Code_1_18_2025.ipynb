{
  "cells": [
    {
      "cell_type": "markdown",
      "metadata": {
        "id": "view-in-github",
        "colab_type": "text"
      },
      "source": [
        "<a href=\"https://colab.research.google.com/github/1333araa/Project-Laravel/blob/main/Copy_of_Challange_Code_1_18_2025.ipynb\" target=\"_parent\"><img src=\"https://colab.research.google.com/assets/colab-badge.svg\" alt=\"Open In Colab\"/></a>"
      ]
    },
    {
      "cell_type": "code",
      "execution_count": null,
      "metadata": {
        "id": "yxSs3nRQQD0X"
      },
      "outputs": [],
      "source": [
        "#Challenge 1"
      ]
    },
    {
      "cell_type": "code",
      "execution_count": null,
      "metadata": {
        "colab": {
          "base_uri": "https://localhost:8080/"
        },
        "id": "huQ80LwaQJrN",
        "outputId": "1b502c72-b722-4b34-9014-9fd351b7a2f0"
      },
      "outputs": [
        {
          "name": "stdout",
          "output_type": "stream",
          "text": [
            "Output: [1, 4, 9, 16, 25]\n"
          ]
        }
      ],
      "source": [
        "input_array = [1,2,3,4,5]\n",
        "output_array = [x**2 for x in input_array]\n",
        "print(\"Output:\", output_array)"
      ]
    },
    {
      "cell_type": "code",
      "execution_count": null,
      "metadata": {
        "id": "zZ6kaaZLRyo1"
      },
      "outputs": [],
      "source": [
        "#Challenge 2"
      ]
    },
    {
      "cell_type": "code",
      "execution_count": null,
      "metadata": {
        "colab": {
          "base_uri": "https://localhost:8080/"
        },
        "id": "4eUn0RDkR1eI",
        "outputId": "46c1916a-c42e-40fd-9c7c-8ebdbcba8b9b"
      },
      "outputs": [
        {
          "name": "stdout",
          "output_type": "stream",
          "text": [
            "Output: ['ganjil', 'genap', 'ganjil', 'genap', 'ganjil']\n"
          ]
        }
      ],
      "source": [
        "input_array = [1,2,3,4,5]\n",
        "output_array = [\"ganjil\" if x % 2 != 0 else \"genap\" for x in input_array]\n",
        "print(\"Output:\", output_array)"
      ]
    },
    {
      "cell_type": "code",
      "execution_count": null,
      "metadata": {
        "id": "REcKYgNiTPPK"
      },
      "outputs": [],
      "source": [
        "#Challenge 3"
      ]
    },
    {
      "cell_type": "code",
      "execution_count": null,
      "metadata": {
        "colab": {
          "base_uri": "https://localhost:8080/"
        },
        "id": "KcEw_QxqTSzY",
        "outputId": "e0564007-fcc3-4693-a348-8082d40d959f"
      },
      "outputs": [
        {
          "name": "stdout",
          "output_type": "stream",
          "text": [
            "Output: [6, 9, 12]\n"
          ]
        }
      ],
      "source": [
        "input_list = [[1,2,3], [2,3,4], [3,4,5]]\n",
        "output_list= [sum(sublist) for sublist in input_list]\n",
        "print (\"Output:\", output_list)"
      ]
    },
    {
      "cell_type": "code",
      "execution_count": null,
      "metadata": {
        "id": "rs1UHM5NUGUJ"
      },
      "outputs": [],
      "source": [
        "#Example"
      ]
    },
    {
      "cell_type": "code",
      "execution_count": null,
      "metadata": {
        "colab": {
          "base_uri": "https://localhost:8080/"
        },
        "id": "F-GBTs_7ePso",
        "outputId": "8944048c-cc04-4180-ca3c-8924da17f716"
      },
      "outputs": [
        {
          "name": "stdout",
          "output_type": "stream",
          "text": [
            "[0, 0, 1, 1]\n"
          ]
        }
      ],
      "source": [
        "input_list = [800, 600, 400, 200]\n",
        "compared_input = [500, 200, 400]\n",
        "\n",
        "for i in range(len(input_list)):\n",
        "    input_list[i] = 1 if input_list[i] in compared_input else 0\n",
        "\n",
        "print(input_list)\n"
      ]
    },
    {
      "cell_type": "code",
      "execution_count": null,
      "metadata": {
        "id": "BU5qx676jwUn"
      },
      "outputs": [],
      "source": [
        "#Challenge 4"
      ]
    },
    {
      "cell_type": "code",
      "execution_count": null,
      "metadata": {
        "colab": {
          "base_uri": "https://localhost:8080/"
        },
        "id": "ybTC0Z8Tjzoy",
        "outputId": "fc57e41b-6c75-454b-95ba-b2ae467508d1"
      },
      "outputs": [
        {
          "name": "stdout",
          "output_type": "stream",
          "text": [
            "Output: [0, 200, 0, 400, 500]\n"
          ]
        }
      ],
      "source": [
        "input_list = [100, 200, 300, 400, 500]\n",
        "compared_input = [500, 200, 400, 500]\n",
        "input_list = [x if x in compared_input else 0 for x in input_list]\n",
        "\n",
        "print(\"Output:\", input_list)"
      ]
    },
    {
      "cell_type": "code",
      "execution_count": null,
      "metadata": {
        "id": "5Du3huVDkBaN"
      },
      "outputs": [],
      "source": [
        "#Challenge 5"
      ]
    },
    {
      "cell_type": "code",
      "execution_count": null,
      "metadata": {
        "id": "XavKbp3QkEFO"
      },
      "outputs": [],
      "source": [
        "input_data = [\n",
        "    {'nama': 'Budi', 'gaji': 5000},\n",
        "    {'nama': 'Dwi', 'gaji': 8000},\n",
        "    {'nama': 'Joko', 'gaji': 6000}\n",
        "]\n",
        "\n",
        "output = {\n",
        "    \"highest_salary\": max(input_data, key=lambda x: x['gaji'])['nama'],\n",
        "    \"total_salary\": sum(x['gaji'] for x in input_data)\n",
        "}\n",
        "\n",
        "print(\"Output:\", output)\n"
      ]
    },
    {
      "cell_type": "code",
      "execution_count": null,
      "metadata": {
        "id": "ZVS0fXZ5mJQc"
      },
      "outputs": [],
      "source": [
        "#Challenge 6"
      ]
    },
    {
      "cell_type": "code",
      "execution_count": null,
      "metadata": {
        "colab": {
          "base_uri": "https://localhost:8080/"
        },
        "id": "x6SPLtRwm1NI",
        "outputId": "bcaeb285-3080-48ca-b56e-08b247033d8e"
      },
      "outputs": [
        {
          "name": "stdout",
          "output_type": "stream",
          "text": [
            "Rincian:\n",
            "Ayam : 2 * 25000 = 50000\n",
            "Sayur : 1 * 12000 = 12000\n",
            "Ikan : 1 * 22000 = 22000\n",
            "Output = 84000\n"
          ]
        }
      ],
      "source": [
        "data = {\n",
        "    \"Indoramet\": {\"Ayam\": 30000, \"Sayur\": 15000, \"Buah\": 20000, \"Ikan\": 22000},\n",
        "    \"Alfaramet\": {\"Ayam\": 25000, \"Sayur\": 12000, \"Buah\": 30000, \"Ikan\": 25000}\n",
        "}\n",
        "to_buy = {\"Ayam\": 2, \"Sayur\": 1, \"Ikan\": 1}\n",
        "\n",
        "total = 0\n",
        "print(\"Rincian:\")\n",
        "for item, qty in to_buy.items():\n",
        "    price = min(data[\"Indoramet\"][item], data[\"Alfaramet\"][item])\n",
        "    cost = price * qty\n",
        "    total += cost\n",
        "    print(f\"{item} : {qty} * {price} = {cost}\")\n",
        "print(\"Output =\", total)\n"
      ]
    },
    {
      "cell_type": "code",
      "execution_count": null,
      "metadata": {
        "id": "UAPRGapStBDs"
      },
      "outputs": [],
      "source": [
        "#Challenge 7"
      ]
    },
    {
      "cell_type": "code",
      "execution_count": null,
      "metadata": {
        "colab": {
          "background_save": true,
          "base_uri": "https://localhost:8080/"
        },
        "id": "UWDTW-jDtYtd",
        "outputId": "6b352070-2adc-4895-ea80-8ab6c07b6b35"
      },
      "outputs": [
        {
          "name": "stdout",
          "output_type": "stream",
          "text": [
            "hasil: 3\n"
          ]
        }
      ],
      "source": [
        "def calculator():\n",
        "    while True:\n",
        "        expression = input(\"calculator: \")\n",
        "        if expression == \"\":\n",
        "            print(\"Kalkulator berhenti.\")\n",
        "            break\n",
        "        try:\n",
        "            result = eval(expression)\n",
        "            print(f\"hasil: {result}\")\n",
        "        except Exception as e:\n",
        "            print(f\"Error: {e}\")\n",
        "\n",
        "calculator()"
      ]
    },
    {
      "cell_type": "markdown",
      "source": [
        "# CODING CHALLENGE"
      ],
      "metadata": {
        "id": "4r2v2_isRP7C"
      }
    },
    {
      "cell_type": "code",
      "source": [
        "a = (1, 2)\n",
        "a[0] +=1"
      ],
      "metadata": {
        "colab": {
          "base_uri": "https://localhost:8080/",
          "height": 162
        },
        "id": "8F2KWwonRe1L",
        "outputId": "35691c07-fd3a-47d1-ac97-229cf469bb71"
      },
      "execution_count": null,
      "outputs": [
        {
          "output_type": "error",
          "ename": "TypeError",
          "evalue": "'tuple' object does not support item assignment",
          "traceback": [
            "\u001b[0;31m---------------------------------------------------------------------------\u001b[0m",
            "\u001b[0;31mTypeError\u001b[0m                                 Traceback (most recent call last)",
            "\u001b[0;32m<ipython-input-1-0fb112fe6d63>\u001b[0m in \u001b[0;36m<cell line: 0>\u001b[0;34m()\u001b[0m\n\u001b[1;32m      1\u001b[0m \u001b[0ma\u001b[0m \u001b[0;34m=\u001b[0m \u001b[0;34m(\u001b[0m\u001b[0;36m1\u001b[0m\u001b[0;34m,\u001b[0m \u001b[0;36m2\u001b[0m\u001b[0;34m)\u001b[0m\u001b[0;34m\u001b[0m\u001b[0;34m\u001b[0m\u001b[0m\n\u001b[0;32m----> 2\u001b[0;31m \u001b[0ma\u001b[0m\u001b[0;34m[\u001b[0m\u001b[0;36m0\u001b[0m\u001b[0;34m]\u001b[0m \u001b[0;34m+=\u001b[0m\u001b[0;36m1\u001b[0m\u001b[0;34m\u001b[0m\u001b[0;34m\u001b[0m\u001b[0m\n\u001b[0m",
            "\u001b[0;31mTypeError\u001b[0m: 'tuple' object does not support item assignment"
          ]
        }
      ]
    },
    {
      "cell_type": "code",
      "source": [
        "a = 2\n",
        "b = 3\n",
        "c = 4\n",
        "\n",
        "if a > b:\n",
        "    if a > c:\n",
        "        print(a)\n",
        "    else:\n",
        "        print(\"ABC\")\n",
        "elif a < b:\n",
        "    if a > c:\n",
        "        print(\"AC\")\n",
        "    print(\"BCA\")\n",
        "else:\n",
        "    print(\"CAB\")"
      ],
      "metadata": {
        "colab": {
          "base_uri": "https://localhost:8080/"
        },
        "id": "tKoGVxvbWvgw",
        "outputId": "9cd97103-7766-4482-bab3-b69bc4cb324d"
      },
      "execution_count": null,
      "outputs": [
        {
          "output_type": "stream",
          "name": "stdout",
          "text": [
            "BCA\n"
          ]
        }
      ]
    },
    {
      "cell_type": "code",
      "source": [
        "for i in range(5):\n",
        "    if i == 3:\n",
        "        break\n",
        "    print(i)"
      ],
      "metadata": {
        "colab": {
          "base_uri": "https://localhost:8080/"
        },
        "id": "UL3bCI5pXBJP",
        "outputId": "75943170-750f-4a48-f929-4a945a1d5352"
      },
      "execution_count": null,
      "outputs": [
        {
          "output_type": "stream",
          "name": "stdout",
          "text": [
            "0\n",
            "1\n",
            "2\n"
          ]
        }
      ]
    },
    {
      "cell_type": "code",
      "source": [
        "for x in range(10):\n",
        "  if x % 2 == 0:\n",
        "    continue\n",
        "  print(x)"
      ],
      "metadata": {
        "colab": {
          "base_uri": "https://localhost:8080/"
        },
        "id": "Je2Dwrc7XRJH",
        "outputId": "760bf482-1762-410f-faff-52a7f1f9376f"
      },
      "execution_count": null,
      "outputs": [
        {
          "output_type": "stream",
          "name": "stdout",
          "text": [
            "1\n",
            "3\n",
            "5\n",
            "7\n",
            "9\n"
          ]
        }
      ]
    },
    {
      "cell_type": "code",
      "source": [
        "for i in range(5): print(\"Hello\")\n",
        "\n"
      ],
      "metadata": {
        "colab": {
          "base_uri": "https://localhost:8080/"
        },
        "id": "TgSaDWWyYKVn",
        "outputId": "cd8916ec-66c6-49fe-de7c-8941867c4768"
      },
      "execution_count": null,
      "outputs": [
        {
          "output_type": "stream",
          "name": "stdout",
          "text": [
            "Hello\n",
            "Hello\n",
            "Hello\n",
            "Hello\n",
            "Hello\n"
          ]
        }
      ]
    },
    {
      "cell_type": "code",
      "source": [
        "for i in range(2, 9, 2): print(i, end=\", \")"
      ],
      "metadata": {
        "colab": {
          "base_uri": "https://localhost:8080/"
        },
        "id": "LlT0E_6mYqwY",
        "outputId": "fb1f8c41-295b-4fb2-fc97-34368dbc9ce0"
      },
      "execution_count": null,
      "outputs": [
        {
          "output_type": "stream",
          "name": "stdout",
          "text": [
            "2, 4, 6, 8, "
          ]
        }
      ]
    },
    {
      "cell_type": "code",
      "source": [
        "for num in numbers: if num > 3: print(num)\n",
        "\n"
      ],
      "metadata": {
        "colab": {
          "base_uri": "https://localhost:8080/",
          "height": 108
        },
        "id": "Ix7fj0e5ZO7B",
        "outputId": "7b4f885d-ba33-442b-e433-009a818a4560"
      },
      "execution_count": null,
      "outputs": [
        {
          "output_type": "error",
          "ename": "SyntaxError",
          "evalue": "invalid syntax (<ipython-input-13-eb1bd4d89f72>, line 1)",
          "traceback": [
            "\u001b[0;36m  File \u001b[0;32m\"<ipython-input-13-eb1bd4d89f72>\"\u001b[0;36m, line \u001b[0;32m1\u001b[0m\n\u001b[0;31m    for num in numbers: if num > 3: print(num)\u001b[0m\n\u001b[0m                        ^\u001b[0m\n\u001b[0;31mSyntaxError\u001b[0m\u001b[0;31m:\u001b[0m invalid syntax\n"
          ]
        }
      ]
    },
    {
      "cell_type": "code",
      "source": [
        "x = 5\n",
        "y = 10\n",
        "print(x > 3 and y < 15)"
      ],
      "metadata": {
        "colab": {
          "base_uri": "https://localhost:8080/"
        },
        "id": "0nKOF1FGZYHQ",
        "outputId": "07569cb3-e7fa-4a99-b342-ad9875baade5"
      },
      "execution_count": null,
      "outputs": [
        {
          "output_type": "stream",
          "name": "stdout",
          "text": [
            "True\n"
          ]
        }
      ]
    },
    {
      "cell_type": "code",
      "source": [
        "x = 5\n",
        "y = 10\n",
        "print(x > 6 or y < 15)"
      ],
      "metadata": {
        "colab": {
          "base_uri": "https://localhost:8080/"
        },
        "id": "HmvZeJA1a038",
        "outputId": "3446aaf2-ad54-4abb-93cb-a0ae5191aace"
      },
      "execution_count": null,
      "outputs": [
        {
          "output_type": "stream",
          "name": "stdout",
          "text": [
            "True\n"
          ]
        }
      ]
    },
    {
      "cell_type": "code",
      "source": [
        "x = 10\n",
        "y = 5\n",
        "z = 15\n",
        "\n",
        "if x > y and x > z:\n",
        "    print(\"X terbesar\")\n",
        "elif y > x and y > z:\n",
        "    print(\"Y terbesar\")\n",
        "else:\n",
        "    print(\"Z terbesar\")"
      ],
      "metadata": {
        "colab": {
          "base_uri": "https://localhost:8080/"
        },
        "id": "hF4UzpjCbEgh",
        "outputId": "c05c27db-9cf8-4c26-d9a0-c07d3f2bfdf7"
      },
      "execution_count": null,
      "outputs": [
        {
          "output_type": "stream",
          "name": "stdout",
          "text": [
            "Z terbesar\n"
          ]
        }
      ]
    },
    {
      "cell_type": "code",
      "source": [
        "angka = [1, 2, 3, 4, 5]\n",
        "hasil = 0\n",
        "for x in angka:\n",
        "    if x % 2 != 0:\n",
        "        hasil += x\n",
        "print(hasil)"
      ],
      "metadata": {
        "colab": {
          "base_uri": "https://localhost:8080/"
        },
        "id": "fcPCj1p_bNcd",
        "outputId": "4ff60f35-cfba-45cf-f33f-67503f984106"
      },
      "execution_count": null,
      "outputs": [
        {
          "output_type": "stream",
          "name": "stdout",
          "text": [
            "9\n"
          ]
        }
      ]
    }
  ],
  "metadata": {
    "colab": {
      "provenance": [],
      "authorship_tag": "ABX9TyMzppy/D+qJrtdXsE3CsBxm",
      "include_colab_link": true
    },
    "kernelspec": {
      "display_name": "Python 3",
      "name": "python3"
    },
    "language_info": {
      "name": "python"
    }
  },
  "nbformat": 4,
  "nbformat_minor": 0
}